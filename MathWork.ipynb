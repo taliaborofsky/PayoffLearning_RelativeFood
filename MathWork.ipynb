{
 "cells": [
  {
   "cell_type": "markdown",
   "id": "informative-carry",
   "metadata": {},
   "source": [
    "# Math work"
   ]
  },
  {
   "cell_type": "code",
   "execution_count": 52,
   "id": "several-canal",
   "metadata": {},
   "outputs": [],
   "source": [
    "#from PIL import Image\n",
    "#import sys\n",
    "#sys.path.append('/usr/local/lib/python3.7/site-packages')\n",
    "#import os\n",
    "import numpy as np\n",
    "import importlib\n",
    "from numpy import linalg\n",
    "import PO_helperfuns\n",
    "from PO_helperfuns import *\n",
    "import PO_DatFrameFuns\n",
    "from PO_DatFrameFuns import *\n",
    "import scipy.stats as scs\n",
    "import matplotlib as mpl\n",
    "import matplotlib.pyplot as plt\n",
    "#importlib.reload(helperfuns)\n",
    "import pandas as pd\n",
    "import sympy as sp\n",
    "from sympy import *\n",
    "from sympy.abc import lamda, beta\n",
    "from sympy.solvers import solve\n",
    "#np.set_printoptions(precision=3, suppress = True)\n",
    "#import seaborn as sns\n",
    "# next two libraries are used to flatten list of lists\n",
    "import functools\n",
    "import operator\n",
    "# for formatting tick labels\n",
    "#from matplotlib.ticker import FormatStrFormatter\n",
    "\n",
    "#for parallelizing:\n",
    "import multiprocessing as mp\n",
    "from pathos.multiprocessing import ProcessingPool as Pool\n",
    "\n",
    "\n",
    "\n"
   ]
  },
  {
   "cell_type": "code",
   "execution_count": 53,
   "id": "empirical-infrastructure",
   "metadata": {},
   "outputs": [],
   "source": [
    "u1, u2,r1,r2, K, pc,  W = sp.symbols('\\hat{u}_1,\\hat{u}_2, \\hat{r}_1,\\hat{r}_2,  K, \\pi_C, \\hat{W}')\n",
    "from sympy.abc import beta, lamda\n",
    "\n"
   ]
  },
  {
   "cell_type": "code",
   "execution_count": 54,
   "id": "federal-married",
   "metadata": {},
   "outputs": [],
   "source": [
    "psi1 = u1/(u1 + u2)\n",
    "psi2 = u2/(u1+u2)\n",
    "R1 = r1/(r1+r2)\n",
    "R2 = r2/(r1+r2)\n",
    "L1 = K*psi1 + pc*R1\n",
    "L2 = K*psi2 + pc*R2\n",
    "What = 1 + (r1)*L1 + (r2)*L2\n",
    "Wu1 = L1*(2-beta*u1)"
   ]
  },
  {
   "cell_type": "code",
   "execution_count": 55,
   "id": "departmental-hamburg",
   "metadata": {},
   "outputs": [],
   "source": [
    "expr = What*u1 - Wu1\n",
    "#expr = expr.subs([(r1,1-beta*u1),(r2,1-beta*u2)])"
   ]
  },
  {
   "cell_type": "code",
   "execution_count": 56,
   "id": "interpreted-scanner",
   "metadata": {},
   "outputs": [],
   "source": [
    "n,d = fraction(simplify(expr)) # n = 0 is one of the equations we solve"
   ]
  },
  {
   "cell_type": "code",
   "execution_count": 57,
   "id": "phantom-combining",
   "metadata": {},
   "outputs": [
    {
     "data": {
      "text/latex": [
       "$\\displaystyle \\hat{u}_1 \\left(\\hat{r}_1 \\left(\\frac{K \\hat{u}_1}{\\hat{u}_1 + \\hat{u}_2} + \\frac{\\hat{r}_1 \\pi_{C}}{\\hat{r}_1 + \\hat{r}_2}\\right) + \\hat{r}_2 \\left(\\frac{K \\hat{u}_2}{\\hat{u}_1 + \\hat{u}_2} + \\frac{\\hat{r}_2 \\pi_{C}}{\\hat{r}_1 + \\hat{r}_2}\\right) + 1\\right) - \\left(- \\hat{u}_1 \\beta + 2\\right) \\left(\\frac{K \\hat{u}_1}{\\hat{u}_1 + \\hat{u}_2} + \\frac{\\hat{r}_1 \\pi_{C}}{\\hat{r}_1 + \\hat{r}_2}\\right)$"
      ],
      "text/plain": [
       "\\hat{u}_1*(\\hat{r}_1*(K*\\hat{u}_1/(\\hat{u}_1 + \\hat{u}_2) + \\hat{r}_1*\\pi_C/(\\hat{r}_1 + \\hat{r}_2)) + \\hat{r}_2*(K*\\hat{u}_2/(\\hat{u}_1 + \\hat{u}_2) + \\hat{r}_2*\\pi_C/(\\hat{r}_1 + \\hat{r}_2)) + 1) - (-\\hat{u}_1*beta + 2)*(K*\\hat{u}_1/(\\hat{u}_1 + \\hat{u}_2) + \\hat{r}_1*\\pi_C/(\\hat{r}_1 + \\hat{r}_2))"
      ]
     },
     "execution_count": 57,
     "metadata": {},
     "output_type": "execute_result"
    }
   ],
   "source": [
    "expr"
   ]
  },
  {
   "cell_type": "markdown",
   "id": "metric-calcium",
   "metadata": {},
   "source": [
    "## Find $J^*$"
   ]
  },
  {
   "cell_type": "code",
   "execution_count": 58,
   "id": "natural-tunnel",
   "metadata": {},
   "outputs": [],
   "source": [
    "du1, du2, dr1, dr2 = sp.symbols('\\Delta_{u_1}, \\Delta_{u_2}, \\Delta_{r_1}, \\Delta_{r_2}')"
   ]
  },
  {
   "cell_type": "code",
   "execution_count": 59,
   "id": "through-hanging",
   "metadata": {},
   "outputs": [],
   "source": [
    "dps1 = (du1*u2 - du2*u1)/(u1+u2)**2\n",
    "dps2 = -dps1\n",
    "dR1 = (dr1*r2 - dr2*r1)/(r1+r2)**2\n",
    "dR2 = - dR1\n",
    "L1 = K*psi1 + pc*R1\n",
    "dL1 = K*dps1 + pc*dR1\n",
    "L2 = K*psi2 + pc*R2\n",
    "dL2 = - dL1"
   ]
  },
  {
   "cell_type": "code",
   "execution_count": 71,
   "id": "distinct-lesbian",
   "metadata": {},
   "outputs": [],
   "source": [
    "L1, L2 = sp.symbols('L_1, L_2')\n",
    "dW =r1*dL1  + dr1*L1 + dr2*L2+ r2*dL2"
   ]
  },
  {
   "cell_type": "code",
   "execution_count": 78,
   "id": "handed-console",
   "metadata": {},
   "outputs": [
    {
     "data": {
      "text/latex": [
       "$\\displaystyle \\frac{K \\Delta_{u_1} \\hat{r}_1 \\hat{u}_2}{\\hat{u}_1^{2} + 2 \\hat{u}_1 \\hat{u}_2 + \\hat{u}_2^{2}} - \\frac{K \\Delta_{u_1} \\hat{r}_2 \\hat{u}_2}{\\hat{u}_1^{2} + 2 \\hat{u}_1 \\hat{u}_2 + \\hat{u}_2^{2}} + \\Delta_{r_1} \\left(L_{1} + \\frac{\\hat{r}_1 \\hat{r}_2 \\pi_{C}}{\\hat{r}_1^{2} + 2 \\hat{r}_1 \\hat{r}_2 + \\hat{r}_2^{2}} - \\frac{\\hat{r}_2^{2} \\pi_{C}}{\\hat{r}_1^{2} + 2 \\hat{r}_1 \\hat{r}_2 + \\hat{r}_2^{2}}\\right) + \\Delta_{r_2} \\left(L_{2} - \\frac{\\hat{r}_1^{2} \\pi_{C}}{\\hat{r}_1^{2} + 2 \\hat{r}_1 \\hat{r}_2 + \\hat{r}_2^{2}} + \\frac{\\hat{r}_1 \\hat{r}_2 \\pi_{C}}{\\hat{r}_1^{2} + 2 \\hat{r}_1 \\hat{r}_2 + \\hat{r}_2^{2}}\\right) + \\Delta_{u_2} \\left(- \\frac{K \\hat{r}_1 \\hat{u}_1}{\\hat{u}_1^{2} + 2 \\hat{u}_1 \\hat{u}_2 + \\hat{u}_2^{2}} + \\frac{K \\hat{r}_2 \\hat{u}_1}{\\hat{u}_1^{2} + 2 \\hat{u}_1 \\hat{u}_2 + \\hat{u}_2^{2}}\\right)$"
      ],
      "text/plain": [
       "K*\\Delta_{u_1}*\\hat{r}_1*\\hat{u}_2/(\\hat{u}_1**2 + 2*\\hat{u}_1*\\hat{u}_2 + \\hat{u}_2**2) - K*\\Delta_{u_1}*\\hat{r}_2*\\hat{u}_2/(\\hat{u}_1**2 + 2*\\hat{u}_1*\\hat{u}_2 + \\hat{u}_2**2) + \\Delta_{r_1}*(L_1 + \\hat{r}_1*\\hat{r}_2*\\pi_C/(\\hat{r}_1**2 + 2*\\hat{r}_1*\\hat{r}_2 + \\hat{r}_2**2) - \\hat{r}_2**2*\\pi_C/(\\hat{r}_1**2 + 2*\\hat{r}_1*\\hat{r}_2 + \\hat{r}_2**2)) + \\Delta_{r_2}*(L_2 - \\hat{r}_1**2*\\pi_C/(\\hat{r}_1**2 + 2*\\hat{r}_1*\\hat{r}_2 + \\hat{r}_2**2) + \\hat{r}_1*\\hat{r}_2*\\pi_C/(\\hat{r}_1**2 + 2*\\hat{r}_1*\\hat{r}_2 + \\hat{r}_2**2)) + \\Delta_{u_2}*(-K*\\hat{r}_1*\\hat{u}_1/(\\hat{u}_1**2 + 2*\\hat{u}_1*\\hat{u}_2 + \\hat{u}_2**2) + K*\\hat{r}_2*\\hat{u}_1/(\\hat{u}_1**2 + 2*\\hat{u}_1*\\hat{u}_2 + \\hat{u}_2**2))"
      ]
     },
     "execution_count": 78,
     "metadata": {},
     "output_type": "execute_result"
    }
   ],
   "source": [
    "expand(dW).collect([du1,du2,dr1,dr2])"
   ]
  },
  {
   "cell_type": "code",
   "execution_count": 67,
   "id": "sealed-reply",
   "metadata": {},
   "outputs": [],
   "source": [
    "du1 = (1/W)*(L1*dr1 + dL1*(1+r1)) - (dW/(W**2))*(W*u1)"
   ]
  },
  {
   "cell_type": "code",
   "execution_count": 69,
   "id": "flying-first",
   "metadata": {},
   "outputs": [
    {
     "data": {
      "text/latex": [
       "$\\displaystyle - \\frac{K \\Delta_{u_1} \\hat{r}_1 \\hat{u}_1 \\hat{u}_2}{\\hat{W} \\hat{u}_1^{2} + 2 \\hat{W} \\hat{u}_1 \\hat{u}_2 + \\hat{W} \\hat{u}_2^{2}} + \\frac{K \\Delta_{u_1} \\hat{r}_1 \\hat{u}_2}{\\hat{W} \\hat{u}_1^{2} + 2 \\hat{W} \\hat{u}_1 \\hat{u}_2 + \\hat{W} \\hat{u}_2^{2}} + \\frac{K \\Delta_{u_1} \\hat{r}_2 \\hat{u}_1 \\hat{u}_2}{\\hat{W} \\hat{u}_1^{2} + 2 \\hat{W} \\hat{u}_1 \\hat{u}_2 + \\hat{W} \\hat{u}_2^{2}} + \\frac{K \\Delta_{u_1} \\hat{u}_2}{\\hat{W} \\hat{u}_1^{2} + 2 \\hat{W} \\hat{u}_1 \\hat{u}_2 + \\hat{W} \\hat{u}_2^{2}} + \\Delta_{r_1} \\left(- \\frac{K \\hat{u}_1^{2}}{\\hat{W} \\hat{u}_1 + \\hat{W} \\hat{u}_2} + \\frac{K \\hat{u}_1}{\\hat{W} \\hat{u}_1 + \\hat{W} \\hat{u}_2} - \\frac{\\hat{r}_1 \\hat{r}_2 \\hat{u}_1 \\pi_{C}}{\\hat{W} \\hat{r}_1^{2} + 2 \\hat{W} \\hat{r}_1 \\hat{r}_2 + \\hat{W} \\hat{r}_2^{2}} + \\frac{\\hat{r}_1 \\hat{r}_2 \\pi_{C}}{\\hat{W} \\hat{r}_1^{2} + 2 \\hat{W} \\hat{r}_1 \\hat{r}_2 + \\hat{W} \\hat{r}_2^{2}} - \\frac{\\hat{r}_1 \\hat{u}_1 \\pi_{C}}{\\hat{W} \\hat{r}_1 + \\hat{W} \\hat{r}_2} + \\frac{\\hat{r}_1 \\pi_{C}}{\\hat{W} \\hat{r}_1 + \\hat{W} \\hat{r}_2} + \\frac{\\hat{r}_2^{2} \\hat{u}_1 \\pi_{C}}{\\hat{W} \\hat{r}_1^{2} + 2 \\hat{W} \\hat{r}_1 \\hat{r}_2 + \\hat{W} \\hat{r}_2^{2}} + \\frac{\\hat{r}_2 \\pi_{C}}{\\hat{W} \\hat{r}_1^{2} + 2 \\hat{W} \\hat{r}_1 \\hat{r}_2 + \\hat{W} \\hat{r}_2^{2}}\\right) + \\Delta_{r_2} \\left(- \\frac{K \\hat{u}_1 \\hat{u}_2}{\\hat{W} \\hat{u}_1 + \\hat{W} \\hat{u}_2} + \\frac{\\hat{r}_1^{2} \\hat{u}_1 \\pi_{C}}{\\hat{W} \\hat{r}_1^{2} + 2 \\hat{W} \\hat{r}_1 \\hat{r}_2 + \\hat{W} \\hat{r}_2^{2}} - \\frac{\\hat{r}_1^{2} \\pi_{C}}{\\hat{W} \\hat{r}_1^{2} + 2 \\hat{W} \\hat{r}_1 \\hat{r}_2 + \\hat{W} \\hat{r}_2^{2}} - \\frac{\\hat{r}_1 \\hat{r}_2 \\hat{u}_1 \\pi_{C}}{\\hat{W} \\hat{r}_1^{2} + 2 \\hat{W} \\hat{r}_1 \\hat{r}_2 + \\hat{W} \\hat{r}_2^{2}} - \\frac{\\hat{r}_1 \\pi_{C}}{\\hat{W} \\hat{r}_1^{2} + 2 \\hat{W} \\hat{r}_1 \\hat{r}_2 + \\hat{W} \\hat{r}_2^{2}} - \\frac{\\hat{r}_2 \\hat{u}_1 \\pi_{C}}{\\hat{W} \\hat{r}_1 + \\hat{W} \\hat{r}_2}\\right) + \\Delta_{u_2} \\left(\\frac{K \\hat{r}_1 \\hat{u}_1^{2}}{\\hat{W} \\hat{u}_1^{2} + 2 \\hat{W} \\hat{u}_1 \\hat{u}_2 + \\hat{W} \\hat{u}_2^{2}} - \\frac{K \\hat{r}_1 \\hat{u}_1}{\\hat{W} \\hat{u}_1^{2} + 2 \\hat{W} \\hat{u}_1 \\hat{u}_2 + \\hat{W} \\hat{u}_2^{2}} - \\frac{K \\hat{r}_2 \\hat{u}_1^{2}}{\\hat{W} \\hat{u}_1^{2} + 2 \\hat{W} \\hat{u}_1 \\hat{u}_2 + \\hat{W} \\hat{u}_2^{2}} - \\frac{K \\hat{u}_1}{\\hat{W} \\hat{u}_1^{2} + 2 \\hat{W} \\hat{u}_1 \\hat{u}_2 + \\hat{W} \\hat{u}_2^{2}}\\right)$"
      ],
      "text/plain": [
       "-K*\\Delta_{u_1}*\\hat{r}_1*\\hat{u}_1*\\hat{u}_2/(\\hat{W}*\\hat{u}_1**2 + 2*\\hat{W}*\\hat{u}_1*\\hat{u}_2 + \\hat{W}*\\hat{u}_2**2) + K*\\Delta_{u_1}*\\hat{r}_1*\\hat{u}_2/(\\hat{W}*\\hat{u}_1**2 + 2*\\hat{W}*\\hat{u}_1*\\hat{u}_2 + \\hat{W}*\\hat{u}_2**2) + K*\\Delta_{u_1}*\\hat{r}_2*\\hat{u}_1*\\hat{u}_2/(\\hat{W}*\\hat{u}_1**2 + 2*\\hat{W}*\\hat{u}_1*\\hat{u}_2 + \\hat{W}*\\hat{u}_2**2) + K*\\Delta_{u_1}*\\hat{u}_2/(\\hat{W}*\\hat{u}_1**2 + 2*\\hat{W}*\\hat{u}_1*\\hat{u}_2 + \\hat{W}*\\hat{u}_2**2) + \\Delta_{r_1}*(-K*\\hat{u}_1**2/(\\hat{W}*\\hat{u}_1 + \\hat{W}*\\hat{u}_2) + K*\\hat{u}_1/(\\hat{W}*\\hat{u}_1 + \\hat{W}*\\hat{u}_2) - \\hat{r}_1*\\hat{r}_2*\\hat{u}_1*\\pi_C/(\\hat{W}*\\hat{r}_1**2 + 2*\\hat{W}*\\hat{r}_1*\\hat{r}_2 + \\hat{W}*\\hat{r}_2**2) + \\hat{r}_1*\\hat{r}_2*\\pi_C/(\\hat{W}*\\hat{r}_1**2 + 2*\\hat{W}*\\hat{r}_1*\\hat{r}_2 + \\hat{W}*\\hat{r}_2**2) - \\hat{r}_1*\\hat{u}_1*\\pi_C/(\\hat{W}*\\hat{r}_1 + \\hat{W}*\\hat{r}_2) + \\hat{r}_1*\\pi_C/(\\hat{W}*\\hat{r}_1 + \\hat{W}*\\hat{r}_2) + \\hat{r}_2**2*\\hat{u}_1*\\pi_C/(\\hat{W}*\\hat{r}_1**2 + 2*\\hat{W}*\\hat{r}_1*\\hat{r}_2 + \\hat{W}*\\hat{r}_2**2) + \\hat{r}_2*\\pi_C/(\\hat{W}*\\hat{r}_1**2 + 2*\\hat{W}*\\hat{r}_1*\\hat{r}_2 + \\hat{W}*\\hat{r}_2**2)) + \\Delta_{r_2}*(-K*\\hat{u}_1*\\hat{u}_2/(\\hat{W}*\\hat{u}_1 + \\hat{W}*\\hat{u}_2) + \\hat{r}_1**2*\\hat{u}_1*\\pi_C/(\\hat{W}*\\hat{r}_1**2 + 2*\\hat{W}*\\hat{r}_1*\\hat{r}_2 + \\hat{W}*\\hat{r}_2**2) - \\hat{r}_1**2*\\pi_C/(\\hat{W}*\\hat{r}_1**2 + 2*\\hat{W}*\\hat{r}_1*\\hat{r}_2 + \\hat{W}*\\hat{r}_2**2) - \\hat{r}_1*\\hat{r}_2*\\hat{u}_1*\\pi_C/(\\hat{W}*\\hat{r}_1**2 + 2*\\hat{W}*\\hat{r}_1*\\hat{r}_2 + \\hat{W}*\\hat{r}_2**2) - \\hat{r}_1*\\pi_C/(\\hat{W}*\\hat{r}_1**2 + 2*\\hat{W}*\\hat{r}_1*\\hat{r}_2 + \\hat{W}*\\hat{r}_2**2) - \\hat{r}_2*\\hat{u}_1*\\pi_C/(\\hat{W}*\\hat{r}_1 + \\hat{W}*\\hat{r}_2)) + \\Delta_{u_2}*(K*\\hat{r}_1*\\hat{u}_1**2/(\\hat{W}*\\hat{u}_1**2 + 2*\\hat{W}*\\hat{u}_1*\\hat{u}_2 + \\hat{W}*\\hat{u}_2**2) - K*\\hat{r}_1*\\hat{u}_1/(\\hat{W}*\\hat{u}_1**2 + 2*\\hat{W}*\\hat{u}_1*\\hat{u}_2 + \\hat{W}*\\hat{u}_2**2) - K*\\hat{r}_2*\\hat{u}_1**2/(\\hat{W}*\\hat{u}_1**2 + 2*\\hat{W}*\\hat{u}_1*\\hat{u}_2 + \\hat{W}*\\hat{u}_2**2) - K*\\hat{u}_1/(\\hat{W}*\\hat{u}_1**2 + 2*\\hat{W}*\\hat{u}_1*\\hat{u}_2 + \\hat{W}*\\hat{u}_2**2))"
      ]
     },
     "execution_count": 69,
     "metadata": {},
     "output_type": "execute_result"
    }
   ],
   "source": [
    "expand(du1).collect([du1,du2,dr1,dr2])"
   ]
  },
  {
   "cell_type": "code",
   "execution_count": null,
   "id": "collectible-optimum",
   "metadata": {},
   "outputs": [],
   "source": []
  }
 ],
 "metadata": {
  "kernelspec": {
   "display_name": "Python 3",
   "language": "python",
   "name": "python3"
  },
  "language_info": {
   "codemirror_mode": {
    "name": "ipython",
    "version": 3
   },
   "file_extension": ".py",
   "mimetype": "text/x-python",
   "name": "python",
   "nbconvert_exporter": "python",
   "pygments_lexer": "ipython3",
   "version": "3.9.2"
  }
 },
 "nbformat": 4,
 "nbformat_minor": 5
}
