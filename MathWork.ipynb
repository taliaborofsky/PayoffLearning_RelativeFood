{
 "cells": [
  {
   "cell_type": "markdown",
   "id": "skilled-blues",
   "metadata": {},
   "source": [
    "# Math work"
   ]
  },
  {
   "cell_type": "code",
   "execution_count": 1,
   "id": "breeding-canon",
   "metadata": {},
   "outputs": [],
   "source": [
    "#from PIL import Image\n",
    "#import sys\n",
    "#sys.path.append('/usr/local/lib/python3.7/site-packages')\n",
    "#import os\n",
    "import numpy as np\n",
    "import importlib\n",
    "from numpy import linalg\n",
    "import PO_helperfuns\n",
    "from PO_helperfuns import *\n",
    "import PO_DatFrameFuns\n",
    "from PO_DatFrameFuns import *\n",
    "import scipy.stats as scs\n",
    "import matplotlib as mpl\n",
    "import matplotlib.pyplot as plt\n",
    "#importlib.reload(helperfuns)\n",
    "import pandas as pd\n",
    "import sympy as sp\n",
    "from sympy import *\n",
    "from sympy.abc import lamda, beta\n",
    "from sympy.solvers import solve\n",
    "#np.set_printoptions(precision=3, suppress = True)\n",
    "#import seaborn as sns\n",
    "# next two libraries are used to flatten list of lists\n",
    "import functools\n",
    "import operator\n",
    "# for formatting tick labels\n",
    "#from matplotlib.ticker import FormatStrFormatter\n",
    "\n",
    "#for parallelizing:\n",
    "import multiprocessing as mp\n",
    "from pathos.multiprocessing import ProcessingPool as Pool\n",
    "\n",
    "\n",
    "from sympy.abc import beta, lamda\n"
   ]
  },
  {
   "cell_type": "markdown",
   "id": "accepted-emergency",
   "metadata": {},
   "source": [
    "# Equilibrium"
   ]
  },
  {
   "cell_type": "code",
   "execution_count": 2,
   "id": "angry-cedar",
   "metadata": {},
   "outputs": [],
   "source": [
    "u1,u2,bu,K,pc,beta = sp.symbols('u_1, u_2, \\\\bar{u}, K, \\pi_C, \\\\beta')"
   ]
  },
  {
   "cell_type": "code",
   "execution_count": 83,
   "id": "level-broad",
   "metadata": {},
   "outputs": [],
   "source": [
    "r1 = 1 - beta*u1\n",
    "r2 = 1 - beta*u2\n",
    "top = (K*u1*(r1 + r2) + pc*r1*(u1+u2))*(1+r1)\n",
    "bottom = (K*u2*(r1 + r2) + pc*r2*(u1 + u2))*(1 + r2)\n",
    "expr = u1*(bottom) - u2*top"
   ]
  },
  {
   "cell_type": "code",
   "execution_count": 86,
   "id": "verbal-postcard",
   "metadata": {},
   "outputs": [
    {
     "data": {
      "text/latex": [
       "$\\displaystyle - \\left(u_{1} - u_{2}\\right) \\left(K \\beta^{2} u_{1}^{2} u_{2} + K \\beta^{2} u_{1} u_{2}^{2} - 2 K \\beta u_{1} u_{2} + \\beta^{2} \\pi_{C} u_{1}^{2} u_{2} + \\beta^{2} \\pi_{C} u_{1} u_{2}^{2} - 2 \\pi_{C} u_{1} - 2 \\pi_{C} u_{2}\\right)$"
      ],
      "text/plain": [
       "-(u_1 - u_2)*(K*\\beta**2*u_1**2*u_2 + K*\\beta**2*u_1*u_2**2 - 2*K*\\beta*u_1*u_2 + \\beta**2*\\pi_C*u_1**2*u_2 + \\beta**2*\\pi_C*u_1*u_2**2 - 2*\\pi_C*u_1 - 2*\\pi_C*u_2)"
      ]
     },
     "execution_count": 86,
     "metadata": {},
     "output_type": "execute_result"
    }
   ],
   "source": [
    "factor(expr)"
   ]
  },
  {
   "cell_type": "code",
   "execution_count": 3,
   "id": "working-documentary",
   "metadata": {},
   "outputs": [],
   "source": [
    "u1, u2,bu,r1,r2, K, pc,  W = sp.symbols('\\hat{u}_1,\\hat{u}_2, \\hat{\\\\bar{u}},\\hat{r}_1,\\hat{r}_2,  K, \\pi_C, \\hat{W}')\n",
    "\n"
   ]
  },
  {
   "cell_type": "code",
   "execution_count": 14,
   "id": "shaped-breach",
   "metadata": {},
   "outputs": [
    {
     "data": {
      "text/latex": [
       "$\\displaystyle \\hat{\\bar{u}}$"
      ],
      "text/plain": [
       "\\hat{\\bar{u}}"
      ]
     },
     "execution_count": 14,
     "metadata": {},
     "output_type": "execute_result"
    }
   ],
   "source": [
    "bu"
   ]
  },
  {
   "cell_type": "code",
   "execution_count": 54,
   "id": "awful-metro",
   "metadata": {},
   "outputs": [],
   "source": [
    "psi1 = u1/(u1 + u2)\n",
    "psi2 = u2/(u1+u2)\n",
    "R1 = r1/(r1+r2)\n",
    "R2 = r2/(r1+r2)\n",
    "L1 = K*psi1 + pc*R1\n",
    "L2 = K*psi2 + pc*R2\n",
    "What = 1 + (r1)*L1 + (r2)*L2\n",
    "Wu1 = L1*(2-beta*u1)"
   ]
  },
  {
   "cell_type": "code",
   "execution_count": 55,
   "id": "pharmaceutical-control",
   "metadata": {},
   "outputs": [],
   "source": [
    "expr = What*u1 - Wu1\n",
    "#expr = expr.subs([(r1,1-beta*u1),(r2,1-beta*u2)])"
   ]
  },
  {
   "cell_type": "code",
   "execution_count": 56,
   "id": "micro-digest",
   "metadata": {},
   "outputs": [],
   "source": [
    "n,d = fraction(simplify(expr)) # n = 0 is one of the equations we solve"
   ]
  },
  {
   "cell_type": "code",
   "execution_count": 57,
   "id": "occupational-closer",
   "metadata": {},
   "outputs": [
    {
     "data": {
      "text/latex": [
       "$\\displaystyle \\hat{u}_1 \\left(\\hat{r}_1 \\left(\\frac{K \\hat{u}_1}{\\hat{u}_1 + \\hat{u}_2} + \\frac{\\hat{r}_1 \\pi_{C}}{\\hat{r}_1 + \\hat{r}_2}\\right) + \\hat{r}_2 \\left(\\frac{K \\hat{u}_2}{\\hat{u}_1 + \\hat{u}_2} + \\frac{\\hat{r}_2 \\pi_{C}}{\\hat{r}_1 + \\hat{r}_2}\\right) + 1\\right) - \\left(- \\hat{u}_1 \\beta + 2\\right) \\left(\\frac{K \\hat{u}_1}{\\hat{u}_1 + \\hat{u}_2} + \\frac{\\hat{r}_1 \\pi_{C}}{\\hat{r}_1 + \\hat{r}_2}\\right)$"
      ],
      "text/plain": [
       "\\hat{u}_1*(\\hat{r}_1*(K*\\hat{u}_1/(\\hat{u}_1 + \\hat{u}_2) + \\hat{r}_1*\\pi_C/(\\hat{r}_1 + \\hat{r}_2)) + \\hat{r}_2*(K*\\hat{u}_2/(\\hat{u}_1 + \\hat{u}_2) + \\hat{r}_2*\\pi_C/(\\hat{r}_1 + \\hat{r}_2)) + 1) - (-\\hat{u}_1*beta + 2)*(K*\\hat{u}_1/(\\hat{u}_1 + \\hat{u}_2) + \\hat{r}_1*\\pi_C/(\\hat{r}_1 + \\hat{r}_2))"
      ]
     },
     "execution_count": 57,
     "metadata": {},
     "output_type": "execute_result"
    }
   ],
   "source": [
    "expr"
   ]
  },
  {
   "cell_type": "markdown",
   "id": "subsequent-checklist",
   "metadata": {},
   "source": [
    "## Find $J^*$"
   ]
  },
  {
   "cell_type": "code",
   "execution_count": 58,
   "id": "listed-phase",
   "metadata": {},
   "outputs": [],
   "source": [
    "du1, du2, dr1, dr2 = sp.symbols('\\Delta_{u_1}, \\Delta_{u_2}, \\Delta_{r_1}, \\Delta_{r_2}')"
   ]
  },
  {
   "cell_type": "code",
   "execution_count": 59,
   "id": "liked-answer",
   "metadata": {},
   "outputs": [],
   "source": [
    "dps1 = (du1*u2 - du2*u1)/(u1+u2)**2\n",
    "dps2 = -dps1\n",
    "dR1 = (dr1*r2 - dr2*r1)/(r1+r2)**2\n",
    "dR2 = - dR1\n",
    "L1 = K*psi1 + pc*R1\n",
    "dL1 = K*dps1 + pc*dR1\n",
    "L2 = K*psi2 + pc*R2\n",
    "dL2 = - dL1"
   ]
  },
  {
   "cell_type": "code",
   "execution_count": 71,
   "id": "right-appearance",
   "metadata": {},
   "outputs": [],
   "source": [
    "L1, L2 = sp.symbols('L_1, L_2')\n",
    "dW =r1*dL1  + dr1*L1 + dr2*L2+ r2*dL2"
   ]
  },
  {
   "cell_type": "code",
   "execution_count": 78,
   "id": "brilliant-ethnic",
   "metadata": {},
   "outputs": [
    {
     "data": {
      "text/latex": [
       "$\\displaystyle \\frac{K \\Delta_{u_1} \\hat{r}_1 \\hat{u}_2}{\\hat{u}_1^{2} + 2 \\hat{u}_1 \\hat{u}_2 + \\hat{u}_2^{2}} - \\frac{K \\Delta_{u_1} \\hat{r}_2 \\hat{u}_2}{\\hat{u}_1^{2} + 2 \\hat{u}_1 \\hat{u}_2 + \\hat{u}_2^{2}} + \\Delta_{r_1} \\left(L_{1} + \\frac{\\hat{r}_1 \\hat{r}_2 \\pi_{C}}{\\hat{r}_1^{2} + 2 \\hat{r}_1 \\hat{r}_2 + \\hat{r}_2^{2}} - \\frac{\\hat{r}_2^{2} \\pi_{C}}{\\hat{r}_1^{2} + 2 \\hat{r}_1 \\hat{r}_2 + \\hat{r}_2^{2}}\\right) + \\Delta_{r_2} \\left(L_{2} - \\frac{\\hat{r}_1^{2} \\pi_{C}}{\\hat{r}_1^{2} + 2 \\hat{r}_1 \\hat{r}_2 + \\hat{r}_2^{2}} + \\frac{\\hat{r}_1 \\hat{r}_2 \\pi_{C}}{\\hat{r}_1^{2} + 2 \\hat{r}_1 \\hat{r}_2 + \\hat{r}_2^{2}}\\right) + \\Delta_{u_2} \\left(- \\frac{K \\hat{r}_1 \\hat{u}_1}{\\hat{u}_1^{2} + 2 \\hat{u}_1 \\hat{u}_2 + \\hat{u}_2^{2}} + \\frac{K \\hat{r}_2 \\hat{u}_1}{\\hat{u}_1^{2} + 2 \\hat{u}_1 \\hat{u}_2 + \\hat{u}_2^{2}}\\right)$"
      ],
      "text/plain": [
       "K*\\Delta_{u_1}*\\hat{r}_1*\\hat{u}_2/(\\hat{u}_1**2 + 2*\\hat{u}_1*\\hat{u}_2 + \\hat{u}_2**2) - K*\\Delta_{u_1}*\\hat{r}_2*\\hat{u}_2/(\\hat{u}_1**2 + 2*\\hat{u}_1*\\hat{u}_2 + \\hat{u}_2**2) + \\Delta_{r_1}*(L_1 + \\hat{r}_1*\\hat{r}_2*\\pi_C/(\\hat{r}_1**2 + 2*\\hat{r}_1*\\hat{r}_2 + \\hat{r}_2**2) - \\hat{r}_2**2*\\pi_C/(\\hat{r}_1**2 + 2*\\hat{r}_1*\\hat{r}_2 + \\hat{r}_2**2)) + \\Delta_{r_2}*(L_2 - \\hat{r}_1**2*\\pi_C/(\\hat{r}_1**2 + 2*\\hat{r}_1*\\hat{r}_2 + \\hat{r}_2**2) + \\hat{r}_1*\\hat{r}_2*\\pi_C/(\\hat{r}_1**2 + 2*\\hat{r}_1*\\hat{r}_2 + \\hat{r}_2**2)) + \\Delta_{u_2}*(-K*\\hat{r}_1*\\hat{u}_1/(\\hat{u}_1**2 + 2*\\hat{u}_1*\\hat{u}_2 + \\hat{u}_2**2) + K*\\hat{r}_2*\\hat{u}_1/(\\hat{u}_1**2 + 2*\\hat{u}_1*\\hat{u}_2 + \\hat{u}_2**2))"
      ]
     },
     "execution_count": 78,
     "metadata": {},
     "output_type": "execute_result"
    }
   ],
   "source": [
    "expand(dW).collect([du1,du2,dr1,dr2])"
   ]
  },
  {
   "cell_type": "code",
   "execution_count": 67,
   "id": "varying-lemon",
   "metadata": {},
   "outputs": [],
   "source": [
    "du1 = (1/W)*(L1*dr1 + dL1*(1+r1)) - (dW/(W**2))*(W*u1)"
   ]
  },
  {
   "cell_type": "code",
   "execution_count": 69,
   "id": "prescription-referral",
   "metadata": {},
   "outputs": [
    {
     "data": {
      "text/latex": [
       "$\\displaystyle - \\frac{K \\Delta_{u_1} \\hat{r}_1 \\hat{u}_1 \\hat{u}_2}{\\hat{W} \\hat{u}_1^{2} + 2 \\hat{W} \\hat{u}_1 \\hat{u}_2 + \\hat{W} \\hat{u}_2^{2}} + \\frac{K \\Delta_{u_1} \\hat{r}_1 \\hat{u}_2}{\\hat{W} \\hat{u}_1^{2} + 2 \\hat{W} \\hat{u}_1 \\hat{u}_2 + \\hat{W} \\hat{u}_2^{2}} + \\frac{K \\Delta_{u_1} \\hat{r}_2 \\hat{u}_1 \\hat{u}_2}{\\hat{W} \\hat{u}_1^{2} + 2 \\hat{W} \\hat{u}_1 \\hat{u}_2 + \\hat{W} \\hat{u}_2^{2}} + \\frac{K \\Delta_{u_1} \\hat{u}_2}{\\hat{W} \\hat{u}_1^{2} + 2 \\hat{W} \\hat{u}_1 \\hat{u}_2 + \\hat{W} \\hat{u}_2^{2}} + \\Delta_{r_1} \\left(- \\frac{K \\hat{u}_1^{2}}{\\hat{W} \\hat{u}_1 + \\hat{W} \\hat{u}_2} + \\frac{K \\hat{u}_1}{\\hat{W} \\hat{u}_1 + \\hat{W} \\hat{u}_2} - \\frac{\\hat{r}_1 \\hat{r}_2 \\hat{u}_1 \\pi_{C}}{\\hat{W} \\hat{r}_1^{2} + 2 \\hat{W} \\hat{r}_1 \\hat{r}_2 + \\hat{W} \\hat{r}_2^{2}} + \\frac{\\hat{r}_1 \\hat{r}_2 \\pi_{C}}{\\hat{W} \\hat{r}_1^{2} + 2 \\hat{W} \\hat{r}_1 \\hat{r}_2 + \\hat{W} \\hat{r}_2^{2}} - \\frac{\\hat{r}_1 \\hat{u}_1 \\pi_{C}}{\\hat{W} \\hat{r}_1 + \\hat{W} \\hat{r}_2} + \\frac{\\hat{r}_1 \\pi_{C}}{\\hat{W} \\hat{r}_1 + \\hat{W} \\hat{r}_2} + \\frac{\\hat{r}_2^{2} \\hat{u}_1 \\pi_{C}}{\\hat{W} \\hat{r}_1^{2} + 2 \\hat{W} \\hat{r}_1 \\hat{r}_2 + \\hat{W} \\hat{r}_2^{2}} + \\frac{\\hat{r}_2 \\pi_{C}}{\\hat{W} \\hat{r}_1^{2} + 2 \\hat{W} \\hat{r}_1 \\hat{r}_2 + \\hat{W} \\hat{r}_2^{2}}\\right) + \\Delta_{r_2} \\left(- \\frac{K \\hat{u}_1 \\hat{u}_2}{\\hat{W} \\hat{u}_1 + \\hat{W} \\hat{u}_2} + \\frac{\\hat{r}_1^{2} \\hat{u}_1 \\pi_{C}}{\\hat{W} \\hat{r}_1^{2} + 2 \\hat{W} \\hat{r}_1 \\hat{r}_2 + \\hat{W} \\hat{r}_2^{2}} - \\frac{\\hat{r}_1^{2} \\pi_{C}}{\\hat{W} \\hat{r}_1^{2} + 2 \\hat{W} \\hat{r}_1 \\hat{r}_2 + \\hat{W} \\hat{r}_2^{2}} - \\frac{\\hat{r}_1 \\hat{r}_2 \\hat{u}_1 \\pi_{C}}{\\hat{W} \\hat{r}_1^{2} + 2 \\hat{W} \\hat{r}_1 \\hat{r}_2 + \\hat{W} \\hat{r}_2^{2}} - \\frac{\\hat{r}_1 \\pi_{C}}{\\hat{W} \\hat{r}_1^{2} + 2 \\hat{W} \\hat{r}_1 \\hat{r}_2 + \\hat{W} \\hat{r}_2^{2}} - \\frac{\\hat{r}_2 \\hat{u}_1 \\pi_{C}}{\\hat{W} \\hat{r}_1 + \\hat{W} \\hat{r}_2}\\right) + \\Delta_{u_2} \\left(\\frac{K \\hat{r}_1 \\hat{u}_1^{2}}{\\hat{W} \\hat{u}_1^{2} + 2 \\hat{W} \\hat{u}_1 \\hat{u}_2 + \\hat{W} \\hat{u}_2^{2}} - \\frac{K \\hat{r}_1 \\hat{u}_1}{\\hat{W} \\hat{u}_1^{2} + 2 \\hat{W} \\hat{u}_1 \\hat{u}_2 + \\hat{W} \\hat{u}_2^{2}} - \\frac{K \\hat{r}_2 \\hat{u}_1^{2}}{\\hat{W} \\hat{u}_1^{2} + 2 \\hat{W} \\hat{u}_1 \\hat{u}_2 + \\hat{W} \\hat{u}_2^{2}} - \\frac{K \\hat{u}_1}{\\hat{W} \\hat{u}_1^{2} + 2 \\hat{W} \\hat{u}_1 \\hat{u}_2 + \\hat{W} \\hat{u}_2^{2}}\\right)$"
      ],
      "text/plain": [
       "-K*\\Delta_{u_1}*\\hat{r}_1*\\hat{u}_1*\\hat{u}_2/(\\hat{W}*\\hat{u}_1**2 + 2*\\hat{W}*\\hat{u}_1*\\hat{u}_2 + \\hat{W}*\\hat{u}_2**2) + K*\\Delta_{u_1}*\\hat{r}_1*\\hat{u}_2/(\\hat{W}*\\hat{u}_1**2 + 2*\\hat{W}*\\hat{u}_1*\\hat{u}_2 + \\hat{W}*\\hat{u}_2**2) + K*\\Delta_{u_1}*\\hat{r}_2*\\hat{u}_1*\\hat{u}_2/(\\hat{W}*\\hat{u}_1**2 + 2*\\hat{W}*\\hat{u}_1*\\hat{u}_2 + \\hat{W}*\\hat{u}_2**2) + K*\\Delta_{u_1}*\\hat{u}_2/(\\hat{W}*\\hat{u}_1**2 + 2*\\hat{W}*\\hat{u}_1*\\hat{u}_2 + \\hat{W}*\\hat{u}_2**2) + \\Delta_{r_1}*(-K*\\hat{u}_1**2/(\\hat{W}*\\hat{u}_1 + \\hat{W}*\\hat{u}_2) + K*\\hat{u}_1/(\\hat{W}*\\hat{u}_1 + \\hat{W}*\\hat{u}_2) - \\hat{r}_1*\\hat{r}_2*\\hat{u}_1*\\pi_C/(\\hat{W}*\\hat{r}_1**2 + 2*\\hat{W}*\\hat{r}_1*\\hat{r}_2 + \\hat{W}*\\hat{r}_2**2) + \\hat{r}_1*\\hat{r}_2*\\pi_C/(\\hat{W}*\\hat{r}_1**2 + 2*\\hat{W}*\\hat{r}_1*\\hat{r}_2 + \\hat{W}*\\hat{r}_2**2) - \\hat{r}_1*\\hat{u}_1*\\pi_C/(\\hat{W}*\\hat{r}_1 + \\hat{W}*\\hat{r}_2) + \\hat{r}_1*\\pi_C/(\\hat{W}*\\hat{r}_1 + \\hat{W}*\\hat{r}_2) + \\hat{r}_2**2*\\hat{u}_1*\\pi_C/(\\hat{W}*\\hat{r}_1**2 + 2*\\hat{W}*\\hat{r}_1*\\hat{r}_2 + \\hat{W}*\\hat{r}_2**2) + \\hat{r}_2*\\pi_C/(\\hat{W}*\\hat{r}_1**2 + 2*\\hat{W}*\\hat{r}_1*\\hat{r}_2 + \\hat{W}*\\hat{r}_2**2)) + \\Delta_{r_2}*(-K*\\hat{u}_1*\\hat{u}_2/(\\hat{W}*\\hat{u}_1 + \\hat{W}*\\hat{u}_2) + \\hat{r}_1**2*\\hat{u}_1*\\pi_C/(\\hat{W}*\\hat{r}_1**2 + 2*\\hat{W}*\\hat{r}_1*\\hat{r}_2 + \\hat{W}*\\hat{r}_2**2) - \\hat{r}_1**2*\\pi_C/(\\hat{W}*\\hat{r}_1**2 + 2*\\hat{W}*\\hat{r}_1*\\hat{r}_2 + \\hat{W}*\\hat{r}_2**2) - \\hat{r}_1*\\hat{r}_2*\\hat{u}_1*\\pi_C/(\\hat{W}*\\hat{r}_1**2 + 2*\\hat{W}*\\hat{r}_1*\\hat{r}_2 + \\hat{W}*\\hat{r}_2**2) - \\hat{r}_1*\\pi_C/(\\hat{W}*\\hat{r}_1**2 + 2*\\hat{W}*\\hat{r}_1*\\hat{r}_2 + \\hat{W}*\\hat{r}_2**2) - \\hat{r}_2*\\hat{u}_1*\\pi_C/(\\hat{W}*\\hat{r}_1 + \\hat{W}*\\hat{r}_2)) + \\Delta_{u_2}*(K*\\hat{r}_1*\\hat{u}_1**2/(\\hat{W}*\\hat{u}_1**2 + 2*\\hat{W}*\\hat{u}_1*\\hat{u}_2 + \\hat{W}*\\hat{u}_2**2) - K*\\hat{r}_1*\\hat{u}_1/(\\hat{W}*\\hat{u}_1**2 + 2*\\hat{W}*\\hat{u}_1*\\hat{u}_2 + \\hat{W}*\\hat{u}_2**2) - K*\\hat{r}_2*\\hat{u}_1**2/(\\hat{W}*\\hat{u}_1**2 + 2*\\hat{W}*\\hat{u}_1*\\hat{u}_2 + \\hat{W}*\\hat{u}_2**2) - K*\\hat{u}_1/(\\hat{W}*\\hat{u}_1**2 + 2*\\hat{W}*\\hat{u}_1*\\hat{u}_2 + \\hat{W}*\\hat{u}_2**2))"
      ]
     },
     "execution_count": 69,
     "metadata": {},
     "output_type": "execute_result"
    }
   ],
   "source": [
    "expand(du1).collect([du1,du2,dr1,dr2])"
   ]
  },
  {
   "cell_type": "code",
   "execution_count": null,
   "id": "collectible-salvation",
   "metadata": {},
   "outputs": [],
   "source": []
  },
  {
   "cell_type": "markdown",
   "id": "treated-exercise",
   "metadata": {},
   "source": [
    "# Internal Stability"
   ]
  },
  {
   "cell_type": "markdown",
   "id": "amateur-exception",
   "metadata": {},
   "source": [
    "## Equal equilibrium"
   ]
  },
  {
   "cell_type": "code",
   "execution_count": 40,
   "id": "worth-rouge",
   "metadata": {},
   "outputs": [],
   "source": [
    "#L = K + pc; R = 1 + r1\n",
    "L,R = sp.symbols('L,R')\n",
    "A = K/2*L\n",
    "B = (1-u1)*L/(2*W) + pc*(R)/(4*W*r1)\n",
    "C = -u1*L/(2*W) - pc*(R)/(4*W*r1)\n",
    "D = -beta*r1/(R)\n",
    "E = 1/(R)"
   ]
  },
  {
   "cell_type": "code",
   "execution_count": 41,
   "id": "suspended-bones",
   "metadata": {},
   "outputs": [],
   "source": [
    "J = Matrix([[A,-A,B,-B],[-A,A,-B,B],[C,0,E,0],[0,C,0,E]])"
   ]
  },
  {
   "cell_type": "code",
   "execution_count": 42,
   "id": "skilled-killer",
   "metadata": {},
   "outputs": [],
   "source": [
    "charpoly = J.charpoly(lamda)\n",
    "charpoly = charpoly.as_expr()"
   ]
  },
  {
   "cell_type": "code",
   "execution_count": 43,
   "id": "fallen-riding",
   "metadata": {},
   "outputs": [
    {
     "data": {
      "text/latex": [
       "$\\displaystyle \\lambda^{4} + \\frac{\\lambda^{3} \\left(- K L R - 2\\right)}{R} + \\frac{\\lambda^{2} \\left(16 K L R \\hat{W}^{2} \\hat{r}_1^{2} - 4 L^{2} R^{2} \\hat{r}_1^{2} \\hat{u}_1^{2} + 4 L^{2} R^{2} \\hat{r}_1^{2} \\hat{u}_1 + 2 L R^{3} \\hat{r}_1 \\pi_{C} + R^{4} \\pi_{C}^{2} + 8 \\hat{W}^{2} \\hat{r}_1^{2}\\right)}{8 R^{2} \\hat{W}^{2} \\hat{r}_1^{2}} + \\frac{\\lambda \\left(- 8 K L \\hat{W}^{2} \\hat{r}_1^{2} + 4 L^{2} R \\hat{r}_1^{2} \\hat{u}_1^{2} - 4 L^{2} R \\hat{r}_1^{2} \\hat{u}_1 - 2 L R^{2} \\hat{r}_1 \\pi_{C} - R^{3} \\pi_{C}^{2}\\right)}{8 R^{2} \\hat{W}^{2} \\hat{r}_1^{2}}$"
      ],
      "text/plain": [
       "lamda**4 + lamda**3*(-K*L*R - 2)/R + lamda**2*(16*K*L*R*\\hat{W}**2*\\hat{r}_1**2 - 4*L**2*R**2*\\hat{r}_1**2*\\hat{u}_1**2 + 4*L**2*R**2*\\hat{r}_1**2*\\hat{u}_1 + 2*L*R**3*\\hat{r}_1*\\pi_C + R**4*\\pi_C**2 + 8*\\hat{W}**2*\\hat{r}_1**2)/(8*R**2*\\hat{W}**2*\\hat{r}_1**2) + lamda*(-8*K*L*\\hat{W}**2*\\hat{r}_1**2 + 4*L**2*R*\\hat{r}_1**2*\\hat{u}_1**2 - 4*L**2*R*\\hat{r}_1**2*\\hat{u}_1 - 2*L*R**2*\\hat{r}_1*\\pi_C - R**3*\\pi_C**2)/(8*R**2*\\hat{W}**2*\\hat{r}_1**2)"
      ]
     },
     "execution_count": 43,
     "metadata": {},
     "output_type": "execute_result"
    }
   ],
   "source": [
    "charpoly"
   ]
  },
  {
   "cell_type": "code",
   "execution_count": 44,
   "id": "differential-graphics",
   "metadata": {},
   "outputs": [],
   "source": [
    "term2 = charpoly.coeff(lamda**2)\n",
    "n,d = fraction(term2)"
   ]
  },
  {
   "cell_type": "code",
   "execution_count": 48,
   "id": "proprietary-forest",
   "metadata": {},
   "outputs": [
    {
     "data": {
      "text/latex": [
       "$\\displaystyle 16 K L R \\hat{W}^{2} \\hat{r}_1^{2} - 4 L^{2} R^{2} \\hat{r}_1^{2} \\hat{u}_1^{2} + 4 L^{2} R^{2} \\hat{r}_1^{2} \\hat{u}_1 + 2 L R^{3} \\hat{r}_1 \\pi_{C} + R^{4} \\pi_{C}^{2} + 8 \\hat{W}^{2} \\hat{r}_1^{2}$"
      ],
      "text/plain": [
       "16*K*L*R*\\hat{W}**2*\\hat{r}_1**2 - 4*L**2*R**2*\\hat{r}_1**2*\\hat{u}_1**2 + 4*L**2*R**2*\\hat{r}_1**2*\\hat{u}_1 + 2*L*R**3*\\hat{r}_1*\\pi_C + R**4*\\pi_C**2 + 8*\\hat{W}**2*\\hat{r}_1**2"
      ]
     },
     "execution_count": 48,
     "metadata": {},
     "output_type": "execute_result"
    }
   ],
   "source": [
    "expand(n)"
   ]
  },
  {
   "cell_type": "code",
   "execution_count": 34,
   "id": "pending-workplace",
   "metadata": {},
   "outputs": [],
   "source": [
    "term1 = charpoly.coeff(lamda)\n",
    "n,d = fraction(term1)"
   ]
  },
  {
   "cell_type": "code",
   "execution_count": 55,
   "id": "flush-customer",
   "metadata": {},
   "outputs": [],
   "source": [
    "evals = J.eigenvals()"
   ]
  },
  {
   "cell_type": "code",
   "execution_count": 70,
   "id": "collective-ordinary",
   "metadata": {},
   "outputs": [
    {
     "name": "stdout",
     "output_type": "stream",
     "text": [
      "first eigenvalue:\n",
      "\n"
     ]
    },
    {
     "data": {
      "text/latex": [
       "$\\displaystyle \\frac{1}{R}$"
      ],
      "text/plain": [
       "1/R"
      ]
     },
     "metadata": {},
     "output_type": "display_data"
    },
    {
     "name": "stdout",
     "output_type": "stream",
     "text": [
      "second eigenvalue:\n",
      "\n"
     ]
    },
    {
     "data": {
      "text/latex": [
       "$\\displaystyle \\frac{2 K L R \\hat{W} \\hat{r}_1 + 2 \\hat{W} \\hat{r}_1 + \\sqrt{2} \\sqrt{2 K^{2} L^{2} R^{2} \\hat{W}^{2} \\hat{r}_1^{2} - 4 K L R \\hat{W}^{2} \\hat{r}_1^{2} + 4 L^{2} R^{2} \\hat{r}_1^{2} \\hat{u}_1^{2} - 4 L^{2} R^{2} \\hat{r}_1^{2} \\hat{u}_1 - 2 L R^{3} \\hat{r}_1 \\pi_{C} - R^{4} \\pi_{C}^{2} + 2 \\hat{W}^{2} \\hat{r}_1^{2}}}{4 R \\hat{W} \\hat{r}_1}$"
      ],
      "text/plain": [
       "(2*K*L*R*\\hat{W}*\\hat{r}_1 + 2*\\hat{W}*\\hat{r}_1 + sqrt(2)*sqrt(2*K**2*L**2*R**2*\\hat{W}**2*\\hat{r}_1**2 - 4*K*L*R*\\hat{W}**2*\\hat{r}_1**2 + 4*L**2*R**2*\\hat{r}_1**2*\\hat{u}_1**2 - 4*L**2*R**2*\\hat{r}_1**2*\\hat{u}_1 - 2*L*R**3*\\hat{r}_1*\\pi_C - R**4*\\pi_C**2 + 2*\\hat{W}**2*\\hat{r}_1**2))/(4*R*\\hat{W}*\\hat{r}_1)"
      ]
     },
     "metadata": {},
     "output_type": "display_data"
    },
    {
     "name": "stdout",
     "output_type": "stream",
     "text": [
      "third eigenvalue:\n",
      "\n"
     ]
    },
    {
     "data": {
      "text/latex": [
       "$\\displaystyle \\frac{2 K L R \\hat{W} \\hat{r}_1 + 2 \\hat{W} \\hat{r}_1 - \\sqrt{2} \\sqrt{2 K^{2} L^{2} R^{2} \\hat{W}^{2} \\hat{r}_1^{2} - 4 K L R \\hat{W}^{2} \\hat{r}_1^{2} + 4 L^{2} R^{2} \\hat{r}_1^{2} \\hat{u}_1^{2} - 4 L^{2} R^{2} \\hat{r}_1^{2} \\hat{u}_1 - 2 L R^{3} \\hat{r}_1 \\pi_{C} - R^{4} \\pi_{C}^{2} + 2 \\hat{W}^{2} \\hat{r}_1^{2}}}{4 R \\hat{W} \\hat{r}_1}$"
      ],
      "text/plain": [
       "(2*K*L*R*\\hat{W}*\\hat{r}_1 + 2*\\hat{W}*\\hat{r}_1 - sqrt(2)*sqrt(2*K**2*L**2*R**2*\\hat{W}**2*\\hat{r}_1**2 - 4*K*L*R*\\hat{W}**2*\\hat{r}_1**2 + 4*L**2*R**2*\\hat{r}_1**2*\\hat{u}_1**2 - 4*L**2*R**2*\\hat{r}_1**2*\\hat{u}_1 - 2*L*R**3*\\hat{r}_1*\\pi_C - R**4*\\pi_C**2 + 2*\\hat{W}**2*\\hat{r}_1**2))/(4*R*\\hat{W}*\\hat{r}_1)"
      ]
     },
     "metadata": {},
     "output_type": "display_data"
    },
    {
     "name": "stdout",
     "output_type": "stream",
     "text": [
      "fourth eigenvalue:\n",
      "\n"
     ]
    },
    {
     "data": {
      "text/latex": [
       "$\\displaystyle 0$"
      ],
      "text/plain": [
       "0"
      ]
     },
     "metadata": {},
     "output_type": "display_data"
    }
   ],
   "source": [
    "listevals = list(evals)\n",
    "print('first eigenvalue:\\n')\n",
    "display(listevals[0])\n",
    "print('second eigenvalue:\\n')\n",
    "display(listevals[1])\n",
    "print('third eigenvalue:\\n')\n",
    "display(listevals[2])\n",
    "print('fourth eigenvalue:\\n')\n",
    "display(listevals[3])"
   ]
  },
  {
   "cell_type": "code",
   "execution_count": 100,
   "id": "northern-acquisition",
   "metadata": {},
   "outputs": [],
   "source": [
    "A,B,C,D,E = sp.symbols('A, B, C, D, E')\n",
    "J = Matrix([[A,-A,B,C],[-A,A,C,B],[D,0,E,0],[0,D,0,E]])\n",
    "charpoly = J.charpoly(lamda)\n",
    "charpoly = charpoly.as_expr()"
   ]
  },
  {
   "cell_type": "code",
   "execution_count": 8,
   "id": "thousand-found",
   "metadata": {},
   "outputs": [
    {
     "name": "stdout",
     "output_type": "stream",
     "text": [
      "-(B*D + C*D + E*lamda - lamda**2)*(2*A*E - 2*A*lamda - B*D + C*D - E*lamda + lamda**2)\n"
     ]
    }
   ],
   "source": [
    "print(factor(charpoly))"
   ]
  },
  {
   "cell_type": "code",
   "execution_count": 7,
   "id": "broadband-orchestra",
   "metadata": {},
   "outputs": [
    {
     "data": {
      "text/latex": [
       "$\\displaystyle \\frac{E}{2} - \\frac{\\sqrt{4 B D + 4 C D + E^{2}}}{2}$"
      ],
      "text/plain": [
       "E/2 - sqrt(4*B*D + 4*C*D + E**2)/2"
      ]
     },
     "metadata": {},
     "output_type": "display_data"
    },
    {
     "data": {
      "text/latex": [
       "$\\displaystyle \\frac{E}{2} + \\frac{\\sqrt{4 B D + 4 C D + E^{2}}}{2}$"
      ],
      "text/plain": [
       "E/2 + sqrt(4*B*D + 4*C*D + E**2)/2"
      ]
     },
     "metadata": {},
     "output_type": "display_data"
    },
    {
     "data": {
      "text/latex": [
       "$\\displaystyle A + \\frac{E}{2} - \\frac{\\sqrt{4 A^{2} - 4 A E + 4 B D - 4 C D + E^{2}}}{2}$"
      ],
      "text/plain": [
       "A + E/2 - sqrt(4*A**2 - 4*A*E + 4*B*D - 4*C*D + E**2)/2"
      ]
     },
     "metadata": {},
     "output_type": "display_data"
    },
    {
     "data": {
      "text/latex": [
       "$\\displaystyle A + \\frac{E}{2} + \\frac{\\sqrt{4 A^{2} - 4 A E + 4 B D - 4 C D + E^{2}}}{2}$"
      ],
      "text/plain": [
       "A + E/2 + sqrt(4*A**2 - 4*A*E + 4*B*D - 4*C*D + E**2)/2"
      ]
     },
     "metadata": {},
     "output_type": "display_data"
    }
   ],
   "source": [
    "evals = list(J.eigenvals())\n",
    "display(evals[0])\n",
    "display(evals[1])\n",
    "display(evals[2])\n",
    "display(evals[3])"
   ]
  },
  {
   "cell_type": "code",
   "execution_count": 101,
   "id": "rising-caribbean",
   "metadata": {},
   "outputs": [],
   "source": [
    "Q2 = 2*A*E - 2*A*lamda - B*D + C*D - E*lamda + lamda**2"
   ]
  },
  {
   "cell_type": "code",
   "execution_count": 102,
   "id": "enhanced-syria",
   "metadata": {},
   "outputs": [
    {
     "data": {
      "text/latex": [
       "$\\displaystyle 2 A E - 2 A \\lambda - B D + C D - E \\lambda + \\lambda^{2}$"
      ],
      "text/plain": [
       "2*A*E - 2*A*lamda - B*D + C*D - E*lamda + lamda**2"
      ]
     },
     "execution_count": 102,
     "metadata": {},
     "output_type": "execute_result"
    }
   ],
   "source": [
    "Q2"
   ]
  },
  {
   "cell_type": "code",
   "execution_count": 103,
   "id": "cardiovascular-punch",
   "metadata": {},
   "outputs": [],
   "source": [
    "diff_Q2 = diff(Q2,lamda)\n",
    "lamda_twiddle = solve(diff_Q2,lamda)[0]"
   ]
  },
  {
   "cell_type": "code",
   "execution_count": 104,
   "id": "digital-influence",
   "metadata": {},
   "outputs": [],
   "source": [
    "Q2_min = Q2.subs([(lamda,lamda_twiddle)])"
   ]
  },
  {
   "cell_type": "code",
   "execution_count": 105,
   "id": "nuclear-distribution",
   "metadata": {},
   "outputs": [
    {
     "data": {
      "text/latex": [
       "$\\displaystyle - A^{2} + A E - B D + C D - \\frac{E^{2}}{4}$"
      ],
      "text/plain": [
       "-A**2 + A*E - B*D + C*D - E**2/4"
      ]
     },
     "execution_count": 105,
     "metadata": {},
     "output_type": "execute_result"
    }
   ],
   "source": [
    "Q2_min = simplify(Q2_min)"
   ]
  },
  {
   "cell_type": "code",
   "execution_count": 108,
   "id": "boxed-airplane",
   "metadata": {},
   "outputs": [],
   "source": [
    "Q2_min_sub = simplify(Q2_min.subs([(A,-K*(1+r1)/(4*W*u1)),(B,pc*(1+r1)/(4*W*r1) - (u1/W)*L),\n",
    "             (C,-pc*(1+r1)/(4*W*r1) - (u1/W)*L),(D,-beta*r1/(1+r1)),(E,1/(1+r1))]))"
   ]
  },
  {
   "cell_type": "code",
   "execution_count": 111,
   "id": "tamil-pulse",
   "metadata": {},
   "outputs": [
    {
     "data": {
      "text/latex": [
       "$\\displaystyle - \\frac{K^{2} r_{1}^{4} + 4 K^{2} r_{1}^{3} + 6 K^{2} r_{1}^{2} + 4 K^{2} r_{1} + K^{2} + 4 K W r_{1}^{2} u_{1} + 8 K W r_{1} u_{1} + 4 K W u_{1} + 4 W^{2} u_{1}^{2} - 8 W \\beta \\pi_{C} r_{1}^{2} u_{1}^{2} - 16 W \\beta \\pi_{C} r_{1} u_{1}^{2} - 8 W \\beta \\pi_{C} u_{1}^{2}}{16 W^{2} u_{1}^{2} \\left(r_{1} + 1\\right)^{2}}$"
      ],
      "text/plain": [
       "-(K**2*r_1**4 + 4*K**2*r_1**3 + 6*K**2*r_1**2 + 4*K**2*r_1 + K**2 + 4*K*W*r_1**2*u_1 + 8*K*W*r_1*u_1 + 4*K*W*u_1 + 4*W**2*u_1**2 - 8*W*\\beta*\\pi_C*r_1**2*u_1**2 - 16*W*\\beta*\\pi_C*r_1*u_1**2 - 8*W*\\beta*\\pi_C*u_1**2)/(16*W**2*u_1**2*(r_1 + 1)**2)"
      ]
     },
     "execution_count": 111,
     "metadata": {},
     "output_type": "execute_result"
    }
   ],
   "source": [
    "Q2_min_sub = simplify(expand(Q2_min_sub))\n",
    "factor(Q2_min_sub)"
   ]
  },
  {
   "cell_type": "code",
   "execution_count": 113,
   "id": "numerous-residence",
   "metadata": {},
   "outputs": [],
   "source": [
    "n,d = fraction(Q2_min_sub)\n",
    "# want to show n < 0 for reality\n",
    "n_sub = n.subs([(r1,1-beta*u1),(W,1+(1-beta*u1)*(K+pc))])"
   ]
  },
  {
   "cell_type": "code",
   "execution_count": 126,
   "id": "knowing-greeting",
   "metadata": {},
   "outputs": [
    {
     "data": {
      "text/latex": [
       "$\\displaystyle - K^{2} \\beta^{4} u_{1}^{4} + 4 K^{2} \\beta^{3} u_{1}^{4} + 8 K^{2} \\beta^{3} u_{1}^{3} - 4 K^{2} \\beta^{2} u_{1}^{4} - 20 K^{2} \\beta^{2} u_{1}^{3} - 24 K^{2} \\beta^{2} u_{1}^{2} + 8 K^{2} \\beta u_{1}^{3} + 32 K^{2} \\beta u_{1}^{2} + 32 K^{2} \\beta u_{1} - 4 K^{2} u_{1}^{2} - 16 K^{2} u_{1} - 16 K^{2} - 4 K \\beta^{2} u_{1}^{3} + 8 K \\beta u_{1}^{3} + 16 K \\beta u_{1}^{2} - 8 K u_{1}^{2} - 16 K u_{1} + \\pi_{C}^{2} \\left(40 \\beta^{3} u_{1}^{4} - 4 \\beta^{2} u_{1}^{4} - 64 \\beta^{2} u_{1}^{3} + 8 \\beta u_{1}^{3} + 32 \\beta u_{1}^{2} - 4 u_{1}^{2}\\right) + \\pi_{C} \\left(44 K \\beta^{3} u_{1}^{4} - 8 K \\beta^{2} u_{1}^{4} - 84 K \\beta^{2} u_{1}^{3} + 16 K \\beta u_{1}^{3} + 64 K \\beta u_{1}^{2} - 8 K u_{1}^{2} - 16 K u_{1} + 8 \\beta^{3} u_{1}^{4} - 32 \\beta^{2} u_{1}^{3} + 8 \\beta u_{1}^{3} + 32 \\beta u_{1}^{2} - 8 u_{1}^{2}\\right) - 4 u_{1}^{2}$"
      ],
      "text/plain": [
       "-K**2*\\beta**4*u_1**4 + 4*K**2*\\beta**3*u_1**4 + 8*K**2*\\beta**3*u_1**3 - 4*K**2*\\beta**2*u_1**4 - 20*K**2*\\beta**2*u_1**3 - 24*K**2*\\beta**2*u_1**2 + 8*K**2*\\beta*u_1**3 + 32*K**2*\\beta*u_1**2 + 32*K**2*\\beta*u_1 - 4*K**2*u_1**2 - 16*K**2*u_1 - 16*K**2 - 4*K*\\beta**2*u_1**3 + 8*K*\\beta*u_1**3 + 16*K*\\beta*u_1**2 - 8*K*u_1**2 - 16*K*u_1 + \\pi_C**2*(40*\\beta**3*u_1**4 - 4*\\beta**2*u_1**4 - 64*\\beta**2*u_1**3 + 8*\\beta*u_1**3 + 32*\\beta*u_1**2 - 4*u_1**2) + \\pi_C*(44*K*\\beta**3*u_1**4 - 8*K*\\beta**2*u_1**4 - 84*K*\\beta**2*u_1**3 + 16*K*\\beta*u_1**3 + 64*K*\\beta*u_1**2 - 8*K*u_1**2 - 16*K*u_1 + 8*\\beta**3*u_1**4 - 32*\\beta**2*u_1**3 + 8*\\beta*u_1**3 + 32*\\beta*u_1**2 - 8*u_1**2) - 4*u_1**2"
      ]
     },
     "execution_count": 126,
     "metadata": {},
     "output_type": "execute_result"
    }
   ],
   "source": [
    "n_sub = simplify(expand(n_sub))\n",
    "#n_sub.collect(u1)\n",
    "# this is less than what we would have if u1^5 = 0\n",
    "n_sub2 = n_sub.subs([(u1**5,0)])\n",
    "n_sub2.collect(pc)"
   ]
  },
  {
   "cell_type": "code",
   "execution_count": 69,
   "id": "three-chemistry",
   "metadata": {},
   "outputs": [],
   "source": [
    "u1, K, pc,r1 = sp.symbols('u_1, K, \\pi_C,r_1')\n",
    "#r1 = 1 - beta*u1\n",
    "W = 1 + r1*(K + pc)\n",
    "L = K/2 + pc/2\n",
    "B = pc*(1+r1)/(4*W*r1) - (u1/W)*L\n",
    "C = -pc*(1+r1)/(4*W*r1) - (u1/W)*L\n",
    "D = -beta*r1/(1+r1)\n",
    "E = 1/(1+r1)\n"
   ]
  },
  {
   "cell_type": "code",
   "execution_count": 70,
   "id": "eleven-appeal",
   "metadata": {},
   "outputs": [
    {
     "data": {
      "text/latex": [
       "$\\displaystyle \\frac{- K + \\beta \\pi_{C} u_{1}}{2 u_{1} \\left(r_{1} \\left(K + \\pi_{C}\\right) + 1\\right)}$"
      ],
      "text/plain": [
       "(-K + \\beta*\\pi_C*u_1)/(2*u_1*(r_1*(K + \\pi_C) + 1))"
      ]
     },
     "execution_count": 70,
     "metadata": {},
     "output_type": "execute_result"
    }
   ],
   "source": [
    "A = -K*(1+r1)/(4*W*u1)\n",
    "Q2 = 2*A*E - 2*A*lamda - B*D + C*D - E*lamda + lamda**2\n",
    "intercept = Q2.subs([(lamda,0)])\n",
    "simplify(intercept)"
   ]
  },
  {
   "cell_type": "code",
   "execution_count": 71,
   "id": "latin-welsh",
   "metadata": {},
   "outputs": [],
   "source": [
    "A = -K/(4*L)\n",
    "Q2 = 2*A*E - 2*A*lamda - B*D + C*D - E*lamda + lamda**2\n",
    "\n",
    "\n",
    "lowerbound = Q2.subs([(lamda,-1)])\n",
    "n,d = fraction(simplify(expand(lowerbound)))"
   ]
  },
  {
   "cell_type": "code",
   "execution_count": 72,
   "id": "increased-disposition",
   "metadata": {},
   "outputs": [
    {
     "data": {
      "text/latex": [
       "$\\displaystyle \\pi_{C} \\left(K \\beta + \\beta \\pi_{C} + r_{1}^{2} \\left(2 K + 2 \\pi_{C}\\right) + r_{1} \\left(K \\beta + 4 K + \\beta \\pi_{C} + 4 \\pi_{C} + 2\\right) + 4\\right)$"
      ],
      "text/plain": [
       "\\pi_C*(K*\\beta + \\beta*\\pi_C + r_1**2*(2*K + 2*\\pi_C) + r_1*(K*\\beta + 4*K + \\beta*\\pi_C + 4*\\pi_C + 2) + 4)"
      ]
     },
     "execution_count": 72,
     "metadata": {},
     "output_type": "execute_result"
    }
   ],
   "source": [
    "n.collect(r1)"
   ]
  },
  {
   "cell_type": "code",
   "execution_count": 73,
   "id": "irish-alcohol",
   "metadata": {},
   "outputs": [],
   "source": [
    "upperbound = Q2.subs([(lamda,1)])\n",
    "n,d = fraction(simplify(expand(upperbound)))"
   ]
  },
  {
   "cell_type": "code",
   "execution_count": 74,
   "id": "fundamental-battery",
   "metadata": {},
   "outputs": [
    {
     "data": {
      "text/latex": [
       "$\\displaystyle \\frac{K \\beta \\pi_{C}}{2} + \\frac{\\beta \\pi_{C}^{2}}{2} + r_{1}^{2} \\left(2 K^{2} + 3 K \\pi_{C} + \\pi_{C}^{2}\\right) + r_{1} \\left(\\frac{K \\beta \\pi_{C}}{2} + 2 K + \\frac{\\beta \\pi_{C}^{2}}{2} + \\pi_{C}\\right)$"
      ],
      "text/plain": [
       "K*\\beta*\\pi_C/2 + \\beta*\\pi_C**2/2 + r_1**2*(2*K**2 + 3*K*\\pi_C + \\pi_C**2) + r_1*(K*\\beta*\\pi_C/2 + 2*K + \\beta*\\pi_C**2/2 + \\pi_C)"
      ]
     },
     "execution_count": 74,
     "metadata": {},
     "output_type": "execute_result"
    }
   ],
   "source": [
    "n.collect(r1)"
   ]
  },
  {
   "cell_type": "code",
   "execution_count": 75,
   "id": "legislative-wright",
   "metadata": {},
   "outputs": [],
   "source": [
    "diffQ2 = diff(Q2,lamda)\n",
    "lamda_twiddle = solve(diffQ2,lamda)[0]"
   ]
  },
  {
   "cell_type": "code",
   "execution_count": 76,
   "id": "adapted-review",
   "metadata": {},
   "outputs": [],
   "source": [
    "lamda_twiddle\n",
    "n,d = fraction(lamda_twiddle)"
   ]
  },
  {
   "cell_type": "code",
   "execution_count": 89,
   "id": "proper-richards",
   "metadata": {},
   "outputs": [
    {
     "data": {
      "text/latex": [
       "$\\displaystyle \\frac{- \\frac{K r_{1}}{2} + \\frac{\\pi_{C}}{2}}{K r_{1} + K + \\pi_{C} r_{1} + \\pi_{C}}$"
      ],
      "text/plain": [
       "(-K*r_1/2 + \\pi_C/2)/(K*r_1 + K + \\pi_C*r_1 + \\pi_C)"
      ]
     },
     "execution_count": 89,
     "metadata": {},
     "output_type": "execute_result"
    }
   ],
   "source": [
    "lamda_twiddle"
   ]
  },
  {
   "cell_type": "code",
   "execution_count": null,
   "id": "religious-military",
   "metadata": {},
   "outputs": [],
   "source": []
  }
 ],
 "metadata": {
  "kernelspec": {
   "display_name": "Python 3",
   "language": "python",
   "name": "python3"
  },
  "language_info": {
   "codemirror_mode": {
    "name": "ipython",
    "version": 3
   },
   "file_extension": ".py",
   "mimetype": "text/x-python",
   "name": "python",
   "nbconvert_exporter": "python",
   "pygments_lexer": "ipython3",
   "version": "3.9.2"
  }
 },
 "nbformat": 4,
 "nbformat_minor": 5
}
