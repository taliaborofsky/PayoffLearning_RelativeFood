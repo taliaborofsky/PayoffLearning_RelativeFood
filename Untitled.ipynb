{
 "cells": [
  {
   "cell_type": "markdown",
   "id": "enclosed-source",
   "metadata": {},
   "source": [
    "# Math work"
   ]
  },
  {
   "cell_type": "code",
   "execution_count": 1,
   "id": "appropriate-issue",
   "metadata": {},
   "outputs": [],
   "source": [
    "#from PIL import Image\n",
    "#import sys\n",
    "#sys.path.append('/usr/local/lib/python3.7/site-packages')\n",
    "#import os\n",
    "import numpy as np\n",
    "import importlib\n",
    "from numpy import linalg\n",
    "import PO_helperfuns\n",
    "from PO_helperfuns import *\n",
    "import PO_DatFrameFuns\n",
    "from PO_DatFrameFuns import *\n",
    "import scipy.stats as scs\n",
    "import matplotlib as mpl\n",
    "import matplotlib.pyplot as plt\n",
    "#importlib.reload(helperfuns)\n",
    "import pandas as pd\n",
    "import sympy as sp\n",
    "from sympy import *\n",
    "from sympy.abc import lamda, beta\n",
    "from sympy.solvers import solve\n",
    "#np.set_printoptions(precision=3, suppress = True)\n",
    "#import seaborn as sns\n",
    "# next two libraries are used to flatten list of lists\n",
    "import functools\n",
    "import operator\n",
    "# for formatting tick labels\n",
    "#from matplotlib.ticker import FormatStrFormatter\n",
    "\n",
    "#for parallelizing:\n",
    "import multiprocessing as mp\n",
    "from pathos.multiprocessing import ProcessingPool as Pool\n",
    "\n",
    "\n",
    "\n"
   ]
  },
  {
   "cell_type": "code",
   "execution_count": 4,
   "id": "universal-cornell",
   "metadata": {},
   "outputs": [],
   "source": [
    "u1, u2,r1,r2, K, pc,  W = sp.symbols('\\hat{u}_1,\\hat{u}_2, \\hat{r}_1,\\hat{r}_2,  K, \\pi_C, \\hat{W}')\n",
    "from sympy.abc import beta, lamda\n",
    "\n"
   ]
  },
  {
   "cell_type": "code",
   "execution_count": 7,
   "id": "greater-syndication",
   "metadata": {},
   "outputs": [],
   "source": [
    "psi1 = u1/(u1 + u2)\n",
    "psi2 = 1 - psi1\n",
    "R1 = r1/(r1+r2)\n",
    "R2 = r2/(r1+r2)\n",
    "L1 = K*psi1 + pc*R1\n",
    "L2 = K*psi2 + pc*R2\n",
    "What = 1 + (1 - beta*u1)*L1 + (1-beta*u2)*L2\n",
    "Wu1 = L1*(2-beta*u1)"
   ]
  },
  {
   "cell_type": "code",
   "execution_count": 19,
   "id": "random-potential",
   "metadata": {},
   "outputs": [],
   "source": [
    "expr = What*u1 - Wu1\n",
    "expr = expr.subs([(r1,1-beta*u1),(r2,1-beta*u2)])"
   ]
  },
  {
   "cell_type": "code",
   "execution_count": 20,
   "id": "directed-producer",
   "metadata": {},
   "outputs": [],
   "source": [
    "n,d = fraction(simplify(expr)) # n = 0 is one of the equations we solve"
   ]
  },
  {
   "cell_type": "code",
   "execution_count": 21,
   "id": "qualified-milan",
   "metadata": {},
   "outputs": [
    {
     "data": {
      "text/latex": [
       "$\\displaystyle \\hat{u}_1 \\left(\\left(\\hat{u}_1 + \\hat{u}_2\\right) \\left(\\hat{u}_1 \\beta + \\hat{u}_2 \\beta - 2\\right) - \\left(\\hat{u}_1 \\beta - 1\\right) \\left(K \\hat{u}_1 \\left(\\hat{u}_1 \\beta + \\hat{u}_2 \\beta - 2\\right) + \\pi_{C} \\left(\\hat{u}_1 + \\hat{u}_2\\right) \\left(\\hat{u}_1 \\beta - 1\\right)\\right) - \\left(\\hat{u}_2 \\beta - 1\\right) \\left(K \\hat{u}_2 \\left(\\hat{u}_1 \\beta + \\hat{u}_2 \\beta - 2\\right) + \\pi_{C} \\left(\\hat{u}_1 + \\hat{u}_2\\right) \\left(\\hat{u}_2 \\beta - 1\\right)\\right)\\right) + \\left(\\hat{u}_1 \\beta - 2\\right) \\left(K \\hat{u}_1 \\left(\\hat{u}_1 \\beta + \\hat{u}_2 \\beta - 2\\right) + \\pi_{C} \\left(\\hat{u}_1 + \\hat{u}_2\\right) \\left(\\hat{u}_1 \\beta - 1\\right)\\right)$"
      ],
      "text/plain": [
       "\\hat{u}_1*((\\hat{u}_1 + \\hat{u}_2)*(\\hat{u}_1*beta + \\hat{u}_2*beta - 2) - (\\hat{u}_1*beta - 1)*(K*\\hat{u}_1*(\\hat{u}_1*beta + \\hat{u}_2*beta - 2) + \\pi_C*(\\hat{u}_1 + \\hat{u}_2)*(\\hat{u}_1*beta - 1)) - (\\hat{u}_2*beta - 1)*(K*\\hat{u}_2*(\\hat{u}_1*beta + \\hat{u}_2*beta - 2) + \\pi_C*(\\hat{u}_1 + \\hat{u}_2)*(\\hat{u}_2*beta - 1))) + (\\hat{u}_1*beta - 2)*(K*\\hat{u}_1*(\\hat{u}_1*beta + \\hat{u}_2*beta - 2) + \\pi_C*(\\hat{u}_1 + \\hat{u}_2)*(\\hat{u}_1*beta - 1))"
      ]
     },
     "execution_count": 21,
     "metadata": {},
     "output_type": "execute_result"
    }
   ],
   "source": [
    "n"
   ]
  },
  {
   "cell_type": "code",
   "execution_count": 22,
   "id": "cellular-study",
   "metadata": {},
   "outputs": [
    {
     "data": {
      "text/latex": [
       "$\\displaystyle \\hat{u}_1^{4} \\left(- K \\beta^{2} - \\pi_{C} \\beta^{2}\\right) + \\hat{u}_1^{3} \\left(- K \\hat{u}_2 \\beta^{2} + K \\beta^{2} + 3 K \\beta - \\hat{u}_2 \\pi_{C} \\beta^{2} + \\pi_{C} \\beta^{2} + 2 \\pi_{C} \\beta + \\beta\\right) + \\hat{u}_1^{2} \\left(- K \\hat{u}_2^{2} \\beta^{2} + K \\hat{u}_2 \\beta^{2} + 2 K \\hat{u}_2 \\beta - 4 K \\beta - 2 K - \\hat{u}_2^{2} \\pi_{C} \\beta^{2} + \\hat{u}_2 \\pi_{C} \\beta^{2} + 4 \\hat{u}_2 \\pi_{C} \\beta + 2 \\hat{u}_2 \\beta - 3 \\pi_{C} \\beta - 2 \\pi_{C} - 2\\right) + \\hat{u}_1 \\left(- K \\hat{u}_2^{3} \\beta^{2} + 3 K \\hat{u}_2^{2} \\beta - 2 K \\hat{u}_2 \\beta - 2 K \\hat{u}_2 + 4 K - \\hat{u}_2^{3} \\pi_{C} \\beta^{2} + 2 \\hat{u}_2^{2} \\pi_{C} \\beta + \\hat{u}_2^{2} \\beta - 3 \\hat{u}_2 \\pi_{C} \\beta - 2 \\hat{u}_2 \\pi_{C} - 2 \\hat{u}_2 + 2 \\pi_{C}\\right) + 2 \\hat{u}_2 \\pi_{C}$"
      ],
      "text/plain": [
       "\\hat{u}_1**4*(-K*beta**2 - \\pi_C*beta**2) + \\hat{u}_1**3*(-K*\\hat{u}_2*beta**2 + K*beta**2 + 3*K*beta - \\hat{u}_2*\\pi_C*beta**2 + \\pi_C*beta**2 + 2*\\pi_C*beta + beta) + \\hat{u}_1**2*(-K*\\hat{u}_2**2*beta**2 + K*\\hat{u}_2*beta**2 + 2*K*\\hat{u}_2*beta - 4*K*beta - 2*K - \\hat{u}_2**2*\\pi_C*beta**2 + \\hat{u}_2*\\pi_C*beta**2 + 4*\\hat{u}_2*\\pi_C*beta + 2*\\hat{u}_2*beta - 3*\\pi_C*beta - 2*\\pi_C - 2) + \\hat{u}_1*(-K*\\hat{u}_2**3*beta**2 + 3*K*\\hat{u}_2**2*beta - 2*K*\\hat{u}_2*beta - 2*K*\\hat{u}_2 + 4*K - \\hat{u}_2**3*\\pi_C*beta**2 + 2*\\hat{u}_2**2*\\pi_C*beta + \\hat{u}_2**2*beta - 3*\\hat{u}_2*\\pi_C*beta - 2*\\hat{u}_2*\\pi_C - 2*\\hat{u}_2 + 2*\\pi_C) + 2*\\hat{u}_2*\\pi_C"
      ]
     },
     "execution_count": 22,
     "metadata": {},
     "output_type": "execute_result"
    }
   ],
   "source": [
    "collect(expand(n),u1)"
   ]
  },
  {
   "cell_type": "code",
   "execution_count": 25,
   "id": "recovered-muscle",
   "metadata": {},
   "outputs": [],
   "source": [
    "expr2 = What*(1-u1-u2) - (1-K-pc)\n",
    "expr2 = expr2.subs([(r1,1-beta*u1),(r2,1-beta*u2)])"
   ]
  },
  {
   "cell_type": "code",
   "execution_count": 28,
   "id": "latin-plaza",
   "metadata": {},
   "outputs": [],
   "source": [
    "n2,d2 = fraction(simplify(expr2))"
   ]
  },
  {
   "cell_type": "code",
   "execution_count": 42,
   "id": "vanilla-contract",
   "metadata": {},
   "outputs": [
    {
     "data": {
      "text/latex": [
       "$\\displaystyle - K + \\hat{u}_1^{2} \\left(- K \\beta - \\pi_{C} \\beta\\right) + \\hat{u}_1 \\left(\\frac{K \\beta}{2} + K + \\frac{\\pi_{C} \\beta}{2} + \\pi_{C} + 1\\right) - \\pi_{C}$"
      ],
      "text/plain": [
       "-K + \\hat{u}_1**2*(-K*beta - \\pi_C*beta) + \\hat{u}_1*(K*beta/2 + K + \\pi_C*beta/2 + \\pi_C + 1) - \\pi_C"
      ]
     },
     "execution_count": 42,
     "metadata": {},
     "output_type": "execute_result"
    }
   ],
   "source": [
    "expr = u1*(1 + (1 - beta*u1)*(K + pc)) - (1 - beta*u1/2)*(K + pc)\n",
    "collect(expand(expr),u1)"
   ]
  },
  {
   "cell_type": "code",
   "execution_count": null,
   "id": "regular-index",
   "metadata": {},
   "outputs": [],
   "source": []
  }
 ],
 "metadata": {
  "kernelspec": {
   "display_name": "Python 3",
   "language": "python",
   "name": "python3"
  },
  "language_info": {
   "codemirror_mode": {
    "name": "ipython",
    "version": 3
   },
   "file_extension": ".py",
   "mimetype": "text/x-python",
   "name": "python",
   "nbconvert_exporter": "python",
   "pygments_lexer": "ipython3",
   "version": "3.9.2"
  }
 },
 "nbformat": 4,
 "nbformat_minor": 5
}
